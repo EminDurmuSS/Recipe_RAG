{
 "cells": [
  {
   "cell_type": "code",
   "execution_count": 1,
   "id": "5e8ac482",
   "metadata": {},
   "outputs": [],
   "source": [
    "from llm_generator import *\n",
    "from create_combinations import *"
   ]
  },
  {
   "cell_type": "code",
   "execution_count": 2,
   "id": "c4db0c49",
   "metadata": {},
   "outputs": [],
   "source": [
    "# Path variables\n",
    "MODEL_PATH = Path('../results/QuatE/trained_model.pkl')\n",
    "TRIPLES_PATH = Path('../data/triples_new_without_ct_ss.csv')\n",
    "RECIPE_PATH_CSV = Path(\"../data/dataFullLargerRegionAndCountryWithServingsBin.csv\")\n",
    "JSON_COMBINATIONS_PATH = 'evaluation/combinations'"
   ]
  },
  {
   "cell_type": "code",
   "execution_count": 3,
   "id": "36bb36ab",
   "metadata": {},
   "outputs": [
    {
     "name": "stdout",
     "output_type": "stream",
     "text": [
      "# Processing combo without ingredients: 9\n",
      "# Processing combo with ingredients: 9\n"
     ]
    }
   ],
   "source": [
    "# Create random combinations of user criteria\n",
    "combos_without_ingredients, combos_with_ingredients = \\\n",
    "    create_combinations(RECIPE_PATH_CSV, JSON_COMBINATIONS_PATH, 3)\n",
    "\n",
    "print(f\"# Processing combo without ingredients: {len(combos_without_ingredients)}\")\n",
    "print(f\"# Processing combo with ingredients: {len(combos_with_ingredients)}\")"
   ]
  },
  {
   "cell_type": "code",
   "execution_count": 4,
   "id": "edc3efa0",
   "metadata": {},
   "outputs": [],
   "source": [
    "def get_results(combos):    \n",
    "    results = []\n",
    "\n",
    "    for i, uc in enumerate(combos):\n",
    "        \n",
    "        print(f\"Run #{i+1} — Processing combo: {uc}\")\n",
    "        \n",
    "        # Get recipe generation by LLM\n",
    "        prompt = get_prompt(uc, MODEL_PATH, TRIPLES_PATH, RECIPE_PATH_CSV)\n",
    "        messages = create_messages(prompt)\n",
    "        response = get_response(\"deepseek/deepseek-chat-v3-0324:free\", messages)\n",
    "        raw_text = response.strip()\n",
    "        json_text = get_json(raw_text)\n",
    "\n",
    "        # LLM-as-a-judge: evaluate the recipe generation by another LLM\n",
    "        system_prompt, user_prompt = get_prompt_evaluation(json_text)\n",
    "        messages_eval = create_messages(system_prompt, user_prompt)\n",
    "        response_eval = get_response(\"deepseek/deepseek-chat-v3-0324:free\", messages_eval)\n",
    "        raw_text_eval = response_eval.strip()\n",
    "        json_text_eval = get_json_evaluation(raw_text_eval)\n",
    "\n",
    "        # Save results\n",
    "        scores = json.loads(json_text_eval)\n",
    "        results.append(scores)\n",
    "\n",
    "        break\n",
    "\n",
    "    return pd.DataFrame(results)"
   ]
  },
  {
   "cell_type": "code",
   "execution_count": 5,
   "id": "a095d56e",
   "metadata": {},
   "outputs": [
    {
     "name": "stdout",
     "output_type": "stream",
     "text": [
      "Run #1 — Processing combo: {'meal_type': ['snack']}\n",
      "Run #1 — Processing combo: {'ingredients': ['Salad cucumber']}\n"
     ]
    }
   ],
   "source": [
    "df_without_ingredients = get_results(combos_without_ingredients)\n",
    "df_without_ingredients.to_csv(JSON_COMBINATIONS_PATH + '_without_ingredients_results.csv')\n",
    "df_with_ingredients = get_results(combos_with_ingredients)\n",
    "df_with_ingredients.to_csv(JSON_COMBINATIONS_PATH + '_with_ingredients_results.csv')"
   ]
  }
 ],
 "metadata": {
  "kernelspec": {
   "display_name": "Python 3",
   "language": "python",
   "name": "python3"
  },
  "language_info": {
   "codemirror_mode": {
    "name": "ipython",
    "version": 3
   },
   "file_extension": ".py",
   "mimetype": "text/x-python",
   "name": "python",
   "nbconvert_exporter": "python",
   "pygments_lexer": "ipython3",
   "version": "3.12.7"
  }
 },
 "nbformat": 4,
 "nbformat_minor": 5
}
